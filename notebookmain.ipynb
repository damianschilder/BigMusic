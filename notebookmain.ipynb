{
 "cells": [
  {
   "cell_type": "markdown",
   "metadata": {},
   "source": [
    "Spotify"
   ]
  },
  {
   "cell_type": "code",
   "execution_count": 2,
   "metadata": {},
   "outputs": [],
   "source": [
    "import requests\n",
    "import json\n",
    "import pandas as pd"
   ]
  },
  {
   "cell_type": "code",
   "execution_count": 3,
   "metadata": {},
   "outputs": [
    {
     "name": "stdout",
     "output_type": "stream",
     "text": [
      "{'access_token': 'BQAJDDRgg17z1Xc5xGwfIw36dtone5zDY8s3jcIclDbjx5MiohHT5j8Dg3XqSH7DoO5OZDifENEyEqWFEyFFnLAjsCA_v3RSwlbW0qUj-ZgHyxZeJXs', 'token_type': 'Bearer', 'expires_in': 3600}\n"
     ]
    }
   ],
   "source": [
    "CLIENT_ID = \"5079c4f5a0a744cea9ad93dd277d7fd6\";\n",
    "CLIENT_SECRET = '5beac193cee4460094d0b4cf639f28d0';\n",
    "AUTH_URL = 'https://accounts.spotify.com/api/token'\n",
    "\n",
    "access_token_response = requests.post(AUTH_URL, {\n",
    "    'grant_type': 'client_credentials',\n",
    "    'client_id': CLIENT_ID,\n",
    "    'client_secret': CLIENT_SECRET,\n",
    "})\n",
    "\n",
    "access_token_response_data = access_token_response.json()\n",
    "\n",
    "print(access_token_response.json())\n",
    "\n",
    "access_token = access_token_response_data['access_token']\n"
   ]
  },
  {
   "cell_type": "code",
   "execution_count": 4,
   "metadata": {},
   "outputs": [
    {
     "name": "stdout",
     "output_type": "stream",
     "text": [
      "{'external_urls': {'spotify': 'https://open.spotify.com/artist/6liAMWkVf5LH7YR9yfFy1Y'}, 'followers': {'href': None, 'total': 1659484}, 'genres': ['dark pop', 'electronica', 'laboratorio', 'trip hop'], 'href': 'https://api.spotify.com/v1/artists/6liAMWkVf5LH7YR9yfFy1Y', 'id': '6liAMWkVf5LH7YR9yfFy1Y', 'images': [{'height': 680, 'url': 'https://i.scdn.co/image/05d3721739aee511a898081ab140daa7890a0120', 'width': 1000}, {'height': 435, 'url': 'https://i.scdn.co/image/27802710b01453435de93d71bab2c9988a841ace', 'width': 640}, {'height': 136, 'url': 'https://i.scdn.co/image/333ac38e3c8ab5fcdc238cc46535a4abb802eccc', 'width': 200}, {'height': 44, 'url': 'https://i.scdn.co/image/10052054c06626f6a900e687b20886e462f75568', 'width': 64}], 'name': 'Portishead', 'popularity': 60, 'type': 'artist', 'uri': 'spotify:artist:6liAMWkVf5LH7YR9yfFy1Y'}\n"
     ]
    }
   ],
   "source": [
    "ARTIST_URL = 'https://api.spotify.com/v1/artists/6liAMWkVf5LH7YR9yfFy1Y'\n",
    "bearer = f'Bearer {access_token}'\n",
    "\n",
    "header = {\n",
    "    'Authorization': 'Bearer {token}'.format(token=access_token)\n",
    "}\n",
    "\n",
    "artist_response = requests.get( ARTIST_URL, headers=header )\n",
    "\n",
    "print(artist_response.json())\n"
   ]
  },
  {
   "cell_type": "markdown",
   "metadata": {},
   "source": [
    "Discogs"
   ]
  },
  {
   "cell_type": "code",
   "execution_count": 5,
   "metadata": {},
   "outputs": [
    {
     "name": "stdout",
     "output_type": "stream",
     "text": [
      "('vxHyfEbcYYqctdewGKCqPGrAtRwncaJvhClGRLFL', 'TixYaBXdPFeySUjzksgqktMHCTmUySIAnZuaBPma', 'https://www.discogs.com/oauth/authorize?oauth_token=vxHyfEbcYYqctdewGKCqPGrAtRwncaJvhClGRLFL')\n"
     ]
    }
   ],
   "source": [
    "import discogs_client\n",
    "d = discogs_client.Client(\n",
    "    'Artist details puller/1.0',\n",
    "    consumer_key='iDVawcnpvSxXExRqypEe',\n",
    "    consumer_secret='FzcxvUGnvxzdPzQOUTCjxXJKbvMcaJnR'\n",
    ")\n",
    "print(d.get_authorize_url())\n",
    "\n",
    "release = d.release(1293022)\n",
    "\n",
    "# print(release)\n",
    "# print(release.artists)\n",
    "# artists = release.artists\n",
    "# print(artists)"
   ]
  },
  {
   "cell_type": "markdown",
   "metadata": {},
   "source": [
    "Musicbrainz"
   ]
  },
  {
   "cell_type": "code",
   "execution_count": 6,
   "metadata": {},
   "outputs": [
    {
     "name": "stdout",
     "output_type": "stream",
     "text": [
      "Kanye West\n"
     ]
    }
   ],
   "source": [
    "query= 'Kanye West'\n",
    "\n",
    "url = f'https://musicbrainz.org/ws/2/artist?query={ query }&limit=10&fmt=json'\n",
    "\n",
    "r = requests.get( url )\n",
    "\n",
    "data = json.loads(r.content.decode('utf-8'))\n",
    "\n",
    "print(data['artists'][0]['name'])"
   ]
  },
  {
   "cell_type": "code",
   "execution_count": 11,
   "metadata": {},
   "outputs": [
    {
     "name": "stdout",
     "output_type": "stream",
     "text": [
      "{'gender-id': '93452b5a-a947-30c8-934f-6a4056b151c2', 'ipis': ['00250410908'], 'sort-name': 'Gibbons, Beth', 'end-area': None, 'id': '5adcb9d9-5ea2-428d-af46-ef626966e106', 'gender': 'Female', 'works': [{'attributes': [], 'disambiguation': '', 'title': 'All Mine', 'type': None, 'languages': ['eng'], 'type-id': None, 'id': '35224cfe-8e2e-3426-9f6f-4ea72f0883a4', 'language': 'eng', 'iswcs': ['T-010.366.036-1']}, {'type-id': None, 'iswcs': [], 'id': 'cf656f16-5103-41e2-8a85-b1c5948d7bc1', 'language': 'eng', 'attributes': [], 'disambiguation': '', 'type': None, 'languages': ['eng'], 'title': 'Belong to the World'}, {'type-id': None, 'iswcs': ['T-070.885.119-7'], 'id': 'ad71a5bb-3b49-3b3e-8bc6-6fe159cb2643', 'language': 'eng', 'attributes': [], 'disambiguation': '', 'type': None, 'languages': ['eng'], 'title': 'Biscuit'}, {'type-id': None, 'language': 'eng', 'id': '153a3596-af03-36ed-976a-83fec8745732', 'iswcs': ['T-070.014.327-6'], 'disambiguation': '', 'attributes': [], 'title': 'Black Sabbath', 'languages': ['eng'], 'type': None}, {'type-id': None, 'iswcs': ['T-700.004.684-6'], 'language': 'eng', 'id': '17d19364-b98c-3443-84ab-de960686477a', 'disambiguation': '', 'attributes': [], 'languages': ['eng'], 'type': None, 'title': 'Candy Says'}, {'iswcs': [], 'id': 'ded3a5c5-e3be-4141-8955-fdcab2015ab1', 'language': 'eng', 'type-id': None, 'type': None, 'languages': ['eng'], 'title': 'Cowboys', 'attributes': [], 'disambiguation': ''}, {'attributes': [], 'disambiguation': '', 'title': 'Deep Water', 'type': None, 'languages': ['eng'], 'type-id': None, 'id': '113e4a22-0d9a-4f2c-89b2-2a2657098a94', 'language': 'eng', 'iswcs': []}, {'iswcs': [], 'language': 'eng', 'id': '35481563-6efa-4b19-84f6-575309925816', 'type-id': None, 'languages': ['eng'], 'type': None, 'title': 'Drake', 'disambiguation': '', 'attributes': []}, {'attributes': [], 'disambiguation': '', 'type': None, 'languages': ['eng'], 'title': 'Funny Time of Year', 'type-id': None, 'iswcs': [], 'id': '9f231425-8221-43ef-9087-ccced0f0da1c', 'language': 'eng'}, {'iswcs': ['T-070.249.213-4'], 'language': 'eng', 'id': '95ec9982-e079-3f4c-a03e-4f4629e4e5af', 'type-id': None, 'languages': ['eng'], 'type': None, 'title': 'Glory Box', 'disambiguation': '', 'attributes': []}, {'languages': ['eng'], 'type': None, 'title': 'Hunter', 'disambiguation': '', 'attributes': [], 'iswcs': [], 'language': 'eng', 'id': '17161ef4-398c-4a0c-b06e-9851b7fbeef3', 'type-id': None}, {'iswcs': ['T-011.480.598-9'], 'language': 'eng', 'id': '4fb56c66-1615-3aaa-a7aa-13e8ad7c306a', 'type-id': None, 'languages': ['eng'], 'type': None, 'title': 'It Could Be Sweet', 'disambiguation': '', 'attributes': []}, {'type-id': None, 'language': 'eng', 'id': '4b856d64-1502-3f7a-a08e-6d3a0306f10f', 'iswcs': [], 'disambiguation': '', 'attributes': [], 'title': \"It's a Fire\", 'languages': ['eng'], 'type': None}, {'type-id': None, 'id': 'b3a3c0ff-454d-44ce-97d6-d6844d25adb6', 'language': 'eng', 'iswcs': [], 'attributes': [], 'disambiguation': '', 'title': 'Killing Time', 'type': None, 'languages': ['eng']}, {'type': None, 'languages': ['eng'], 'title': 'Kiss of a Black Widow', 'attributes': [], 'disambiguation': '', 'iswcs': [], 'id': 'bae7b374-cf22-4cf9-8273-cceda7dd15d3', 'language': 'eng', 'type-id': None}, {'iswcs': [], 'id': '0a0b91bf-5163-4ad7-ae12-2867b425e867', 'language': None, 'type-id': None, 'type': None, 'languages': [], 'title': 'Love Is a Stranger', 'attributes': [], 'disambiguation': ''}, {'attributes': [], 'disambiguation': '', 'title': 'Machine Gun', 'type': None, 'languages': ['eng'], 'type-id': None, 'id': 'd31e83ef-61c7-442b-90ec-fdcfcc12967d', 'language': 'eng', 'iswcs': []}, {'languages': ['eng'], 'type': None, 'title': 'Magic Doors', 'disambiguation': '', 'attributes': [], 'iswcs': [], 'language': 'eng', 'id': '0fc91abd-4012-4e55-ad17-2a805443d809', 'type-id': None}, {'title': 'Mother I Sober', 'type': None, 'languages': ['eng'], 'attributes': [], 'disambiguation': '', 'id': 'c3dca2cc-9771-4e80-8867-b8151e293188', 'language': 'eng', 'iswcs': [], 'type-id': None}, {'languages': [], 'type': None, 'title': 'My Secret', 'disambiguation': '', 'attributes': [], 'iswcs': [], 'language': None, 'id': '5b678e75-df83-36e1-8dcc-ccc2127911e3', 'type-id': None}, {'type-id': None, 'iswcs': [], 'language': 'eng', 'id': 'aac7c32f-2467-4842-bf18-1e8f6bb537a0', 'disambiguation': '', 'attributes': [], 'languages': ['eng'], 'type': None, 'title': 'Mysteries'}, {'type-id': None, 'iswcs': ['T-011.480.596-7'], 'language': 'eng', 'id': '2f68c789-eb72-3e12-8226-558b80e0979f', 'disambiguation': '', 'attributes': [], 'languages': ['eng'], 'type': None, 'title': 'Mysterons'}, {'title': 'Numb', 'type': None, 'languages': ['eng'], 'attributes': [], 'disambiguation': '', 'id': 'f591313b-7ed8-32a6-8219-a138cb398d28', 'language': 'eng', 'iswcs': ['T-900.254.577-9'], 'type-id': None}, {'id': 'cab79148-88f1-4c15-b234-74be2c7a0375', 'language': 'eng', 'iswcs': [], 'type-id': None, 'title': 'Nylon Smile', 'type': None, 'languages': ['eng'], 'attributes': [], 'disambiguation': ''}, {'type-id': None, 'id': '38a5ec77-5896-34a2-81db-ca15943949bc', 'language': 'eng', 'iswcs': ['T-011.480.597-8'], 'attributes': [], 'disambiguation': '', 'title': 'Pedestal', 'type': None, 'languages': ['eng']}], 'disambiguation': '', 'begin_area': {'id': 'd0c9de57-1765-48c8-9738-9eab0658a403', 'sort-name': 'Exeter', 'type-id': None, 'name': 'Exeter', 'type': None, 'disambiguation': ''}, 'isnis': ['0000000066583350'], 'name': 'Beth Gibbons', 'type-id': 'b6e035f4-3ce9-331c-97df-83397230b0df', 'begin-area': {'id': 'd0c9de57-1765-48c8-9738-9eab0658a403', 'sort-name': 'Exeter', 'type-id': None, 'name': 'Exeter', 'type': None, 'disambiguation': ''}, 'life-span': {'ended': False, 'end': None, 'begin': '1965-01-04'}, 'end_area': None, 'area': {'iso-3166-1-codes': ['GB'], 'disambiguation': '', 'type': None, 'sort-name': 'United Kingdom', 'name': 'United Kingdom', 'type-id': None, 'id': '8a754a16-0027-3a29-b6d7-2b40ea0481ed'}, 'type': 'Person', 'country': 'GB'}\n"
     ]
    }
   ],
   "source": [
    "url = 'https://musicbrainz.org/ws/2/artist/5adcb9d9-5ea2-428d-af46-ef626966e106?inc=works&fmt=json'\n",
    "\n",
    "r = requests.get( url )\n",
    "\n",
    "data = json.loads(r.content.decode('utf-8'))\n",
    "\n",
    "# print(data)\n",
    "print(data)"
   ]
  }
 ],
 "metadata": {
  "kernelspec": {
   "display_name": "Python 3.9.13 64-bit",
   "language": "python",
   "name": "python3"
  },
  "language_info": {
   "codemirror_mode": {
    "name": "ipython",
    "version": 3
   },
   "file_extension": ".py",
   "mimetype": "text/x-python",
   "name": "python",
   "nbconvert_exporter": "python",
   "pygments_lexer": "ipython3",
   "version": "3.9.13"
  },
  "orig_nbformat": 4,
  "vscode": {
   "interpreter": {
    "hash": "e0da5754fa312e69053530a5cf8ffb6f630207d1c032bd0631db9191864c9828"
   }
  }
 },
 "nbformat": 4,
 "nbformat_minor": 2
}
